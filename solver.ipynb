{
 "cells": [
  {
   "cell_type": "code",
   "execution_count": 21,
   "id": "initial_id",
   "metadata": {
    "collapsed": true,
    "ExecuteTime": {
     "end_time": "2023-12-01T03:10:26.971154550Z",
     "start_time": "2023-12-01T03:10:26.965158510Z"
    }
   },
   "outputs": [],
   "source": [
    "import numpy as np\n",
    "import pandas as pd"
   ]
  },
  {
   "cell_type": "markdown",
   "source": [
    "## Inputs"
   ],
   "metadata": {
    "collapsed": false
   },
   "id": "99f67bc4acaedfe6"
  },
  {
   "cell_type": "code",
   "execution_count": 2,
   "outputs": [],
   "source": [
    "desired_mon = \"Rookidee\"\n",
    "biome = \"forest\"\n",
    "preset = \"\"\n",
    "nearby_blocks = \"\"\n",
    "can_see_sky = \"true\""
   ],
   "metadata": {
    "collapsed": false,
    "ExecuteTime": {
     "end_time": "2023-12-01T02:55:31.137244102Z",
     "start_time": "2023-12-01T02:55:31.107428887Z"
    }
   },
   "id": "8855f2cb02edbb1e"
  },
  {
   "cell_type": "code",
   "execution_count": 3,
   "outputs": [],
   "source": [
    "file_path = 'cobb.csv'\n",
    "rawData = pd.read_csv(file_path)"
   ],
   "metadata": {
    "collapsed": false,
    "ExecuteTime": {
     "end_time": "2023-12-01T02:55:31.154669125Z",
     "start_time": "2023-12-01T02:55:31.107715608Z"
    }
   },
   "id": "de97433882384434"
  },
  {
   "cell_type": "markdown",
   "source": [
    "## Preprocessing"
   ],
   "metadata": {
    "collapsed": false
   },
   "id": "56f573e927da7002"
  },
  {
   "cell_type": "code",
   "execution_count": 4,
   "outputs": [],
   "source": [
    "rawData = rawData.dropna(how='all')\n",
    "rawData = rawData.replace(np.nan, '')\n",
    "data = rawData.applymap(lambda x: x.lower() if type(x) == str else x)"
   ],
   "metadata": {
    "collapsed": false,
    "ExecuteTime": {
     "end_time": "2023-12-01T02:55:31.157146011Z",
     "start_time": "2023-12-01T02:55:31.108108361Z"
    }
   },
   "id": "367e5c85e6615f44"
  },
  {
   "cell_type": "code",
   "execution_count": 5,
   "outputs": [
    {
     "name": "stdout",
     "output_type": "stream",
     "text": [
      "         No.       Pokemon                          Biome Excluded  \\\n",
      "1        1.0     bulbasaur                         jungle            \n",
      "3        1.0     bulbasaur                         jungle            \n",
      "5        2.0       ivysaur                         jungle            \n",
      "7        2.0       ivysaur                         jungle            \n",
      "9        3.0      venusaur                         jungle            \n",
      "...      ...           ...                            ...      ...   \n",
      "3181  1005.0   roaringmoon      terralith:skylands_winter            \n",
      "3183  1006.0   ironvaliant  floral, magical, snowy_forest            \n",
      "3185  1006.0   ironvaliant      terralith:skylands_winter            \n",
      "3187  1011.0       dipplin                         forest            \n",
      "3189  1012.0  poltchageist                         spooky            \n",
      "\n",
      "                                        Excluded Blocks Time Weather  \\\n",
      "1                                                        any     any   \n",
      "3     fire, soul_fire, lava, jack_o_lantern, campfir...  day   clear   \n",
      "5                                                        any     any   \n",
      "7     fire, soul_fire, lava, jack_o_lantern, campfir...  day   clear   \n",
      "9                                                        any     any   \n",
      "...                                                 ...  ...     ...   \n",
      "3181                                                     any     any   \n",
      "3183                                                     any     any   \n",
      "3185                                                     any     any   \n",
      "3187                                                     day     any   \n",
      "3189                                                     any     any   \n",
      "\n",
      "       Context            Preset  \\\n",
      "1     grounded           natural   \n",
      "3     grounded                     \n",
      "5     grounded           natural   \n",
      "7     grounded                     \n",
      "9     grounded           natural   \n",
      "...        ...               ...   \n",
      "3181  grounded                     \n",
      "3183  grounded                     \n",
      "3185  grounded                     \n",
      "3187  grounded  natural, foliage   \n",
      "3189  grounded                     \n",
      "\n",
      "                                           Requirements      Bucket    Weight  \\\n",
      "1                                                        ultra-rare    9.0000   \n",
      "3     minx = 0, needednearbyblocks = flowering_azale...      common  500.0000   \n",
      "5                                                        ultra-rare    0.9000   \n",
      "7     minx = 0, needednearbyblocks = flowering_azale...    uncommon  250.0000   \n",
      "9                                                        ultra-rare    0.1000   \n",
      "...                                                 ...         ...       ...   \n",
      "3181                                                     ultra-rare    0.9000   \n",
      "3183                                                       uncommon    0.0144   \n",
      "3185                                                       uncommon    0.0288   \n",
      "3187           needednearbyblocks = oak_log, oak_leaves        rare    1.0000   \n",
      "3189                                                           rare    7.8000   \n",
      "\n",
      "      Lv. Min  Lv. Max canseeSky  \n",
      "1         5.0     32.0      true  \n",
      "3         5.0     15.0      true  \n",
      "5        16.0     40.0      true  \n",
      "7        20.0     25.0      true  \n",
      "9        32.0     52.0      true  \n",
      "...       ...      ...       ...  \n",
      "3181     55.0     75.0      true  \n",
      "3183     55.0     75.0      true  \n",
      "3185     55.0     75.0      true  \n",
      "3187     25.0     40.0      true  \n",
      "3189     15.0     48.0      true  \n",
      "\n",
      "[1595 rows x 15 columns]\n"
     ]
    }
   ],
   "source": [
    "print(data)"
   ],
   "metadata": {
    "collapsed": false,
    "ExecuteTime": {
     "end_time": "2023-12-01T02:55:31.165397477Z",
     "start_time": "2023-12-01T02:55:31.121747237Z"
    }
   },
   "id": "60522de97004d0f1"
  },
  {
   "cell_type": "code",
   "execution_count": 6,
   "outputs": [],
   "source": [
    "# Obtain all Pokémon in the selected biome plus the overworld biome\n",
    "# filter those to only the select preset and empty presets\n",
    "# for each bucket, calculate the rarity of the pokemon by using the formulae: pokemon_weight / sum_of_weights_in_same_bucket * 100\n",
    "# display"
   ],
   "metadata": {
    "collapsed": false,
    "ExecuteTime": {
     "end_time": "2023-12-01T02:55:31.169238501Z",
     "start_time": "2023-12-01T02:55:31.142700118Z"
    }
   },
   "id": "2f186f1ba9de08b"
  },
  {
   "cell_type": "markdown",
   "source": [
    "## Filtering"
   ],
   "metadata": {
    "collapsed": false
   },
   "id": "36bb8f5d0659a211"
  },
  {
   "cell_type": "code",
   "execution_count": 7,
   "outputs": [],
   "source": [
    "def filter_column(row, value, column):\n",
    "    if ',' in row[column]:\n",
    "        return value in row[column]\n",
    "    else:\n",
    "        return row[column] == value"
   ],
   "metadata": {
    "collapsed": false,
    "ExecuteTime": {
     "end_time": "2023-12-01T02:55:31.239001385Z",
     "start_time": "2023-12-01T02:55:31.154447253Z"
    }
   },
   "id": "b6f18969c9069922"
  },
  {
   "cell_type": "code",
   "execution_count": 8,
   "outputs": [],
   "source": [
    "if biome != '':\n",
    "    filtered_basic_data = data[data.apply(filter_column, value=biome, column='Biome', axis=1) | (data['Biome'].str.contains('overworld'))]\n",
    "else:\n",
    "    filtered_basic_data = data[(data['Biome'].str.contains('overworld')) | data['Biome'] == '']\n",
    "    \n",
    "if preset != '':\n",
    "    filtered_basic_data = filtered_basic_data[data.apply(filter_column, value=preset, column='Preset', axis=1) | (filtered_basic_data['Preset'] == '')]\n",
    "else:\n",
    "    filtered_basic_data = filtered_basic_data[filtered_basic_data['Preset'] == '']\n",
    "\n",
    "\n",
    "if nearby_blocks != '':\n",
    "    filtered_basic_data = filtered_basic_data[(filtered_basic_data['Requirements'].str.contains(nearby_blocks)) | (filtered_basic_data['Requirements'] == '')]\n",
    "else:\n",
    "    filtered_basic_data = filtered_basic_data[filtered_basic_data['Requirements'] == '']\n",
    "\n",
    "filtered_basic_data = filtered_basic_data[filtered_basic_data['canseeSky'] == can_see_sky] # TODO AND ANY"
   ],
   "metadata": {
    "collapsed": false,
    "ExecuteTime": {
     "end_time": "2023-12-01T02:55:31.251966988Z",
     "start_time": "2023-12-01T02:55:31.162955772Z"
    }
   },
   "id": "883a8d499eda8b31"
  },
  {
   "cell_type": "code",
   "execution_count": 9,
   "outputs": [
    {
     "name": "stdout",
     "output_type": "stream",
     "text": [
      "['ariados', 'braviary', 'corviknight', 'corvisquire', 'gallade', 'heracross', 'ironvaliant', 'kirlia', 'noctowl', 'pikipek', 'ralts', 'roaringmoon', 'rookidee', 'rufflet', 'spinarak', 'sudowoodo', 'toucannon', 'trumbeak']\n"
     ]
    }
   ],
   "source": [
    "alist = filtered_basic_data['Pokemon'].tolist()\n",
    "alist.sort()\n",
    "print(alist)"
   ],
   "metadata": {
    "collapsed": false,
    "ExecuteTime": {
     "end_time": "2023-12-01T02:55:31.252693644Z",
     "start_time": "2023-12-01T02:55:31.186554198Z"
    }
   },
   "id": "be4b08d3b0d2005"
  },
  {
   "cell_type": "markdown",
   "source": [
    "## Calculating rarities"
   ],
   "metadata": {
    "collapsed": false
   },
   "id": "a720bab3baa367ef"
  },
  {
   "cell_type": "code",
   "execution_count": 10,
   "outputs": [],
   "source": [
    "def calculate_rarities(bucket, data):\n",
    "    bucket_data = data[data['Bucket'] == bucket]\n",
    "    \n",
    "    groupings = {\n",
    "        ('sun', 'clear'): [],\n",
    "        ('sun', 'rain'): [],\n",
    "        ('sun', 'storm'): [],\n",
    "        ('night', 'clear'): [],\n",
    "        ('night', 'rain'): [],\n",
    "        ('night', 'storm'): [],\n",
    "    }\n",
    "    groupings_with_any = {}\n",
    "    \n",
    "    # Add mons to their respective groups\n",
    "    for index, row in bucket_data.iterrows():\n",
    "        time = row['Time']\n",
    "        weather = row['Weather']\n",
    "        \n",
    "        new_data = (row['Pokemon'], row['Weight'])\n",
    "        \n",
    "        key = (time, weather)\n",
    "        target_dict = groupings_with_any if time == 'any' or weather == 'any' else groupings\n",
    "        \n",
    "        if key in target_dict:\n",
    "            target_dict[key].append(new_data)\n",
    "        else:\n",
    "            target_dict[key] = [new_data]\n",
    "\n",
    "    # Add combinations with 'any' to the other groupings\n",
    "    for combination, pokemon in groupings_with_any.items():\n",
    "        curr_time, curr_weather = combination\n",
    "        \n",
    "        # any and any\n",
    "        if curr_time == curr_weather:\n",
    "            for key in groupings.keys():\n",
    "                groupings[key].extend(pokemon)  \n",
    "        \n",
    "        # any and whatever\n",
    "        elif curr_time == 'any':\n",
    "            for key in groupings.keys():\n",
    "                extended_time, extended_weather = key\n",
    "                if curr_time == extended_time:\n",
    "                    groupings[key].extend(pokemon)\n",
    "                    \n",
    "        # whatever and any\n",
    "        else:\n",
    "            for key in groupings.keys():\n",
    "                extended_time, extended_weather = key\n",
    "                if curr_weather == extended_weather:\n",
    "                    groupings[key].extend(pokemon)\n",
    "            \n",
    "    \n",
    "    percentages = {}\n",
    "                \n",
    "    for combination, pokemon in groupings.items():\n",
    "        max_weight = sum(weight for mon, weight in pokemon)\n",
    "        \n",
    "        percentages[combination] = [(mon, weight, f\"{weight / max_weight * 100:.2f}%\") for mon, weight in pokemon]\n",
    "    \n",
    "    return percentages\n",
    "            "
   ],
   "metadata": {
    "collapsed": false,
    "ExecuteTime": {
     "end_time": "2023-12-01T02:55:31.253236915Z",
     "start_time": "2023-12-01T02:55:31.197132780Z"
    }
   },
   "id": "6ff2394ef5c5878d"
  },
  {
   "cell_type": "markdown",
   "source": [
    "## Results"
   ],
   "metadata": {
    "collapsed": false
   },
   "id": "2eeef374332b946"
  },
  {
   "cell_type": "code",
   "execution_count": 25,
   "outputs": [
    {
     "name": "stdout",
     "output_type": "stream",
     "text": [
      "Bucket: Common\n",
      "Time: Sun, Weather: Clear - Rookidee - 90.00%, Corvisquire - 9.00%, Corviknight - 1.00%\n",
      "Time: Sun, Weather: Rain - Rookidee - 90.00%, Corvisquire - 9.00%, Corviknight - 1.00%\n",
      "Time: Sun, Weather: Storm - Rookidee - 90.00%, Corvisquire - 9.00%, Corviknight - 1.00%\n",
      "Time: Night, Weather: Clear - Noctowl - 5.88%, Spinarak - 31.76%, Ariados - 3.53%, Rookidee - 52.94%, Corvisquire - 5.29%, Corviknight - 0.59%\n",
      "Time: Night, Weather: Rain - Rookidee - 90.00%, Corvisquire - 9.00%, Corviknight - 1.00%\n",
      "Time: Night, Weather: Storm - Rookidee - 90.00%, Corvisquire - 9.00%, Corviknight - 1.00%\n",
      "\n",
      "\n",
      "Bucket: Uncommon\n",
      "Time: Sun, Weather: Clear - Ralts - 44.98%, Kirlia - 4.50%, Gallade - 0.45%, Pikipek - 24.99%, Trumbeak - 24.99%, Ironvaliant - 0.09%\n",
      "Time: Sun, Weather: Rain - Ralts - 44.98%, Kirlia - 4.50%, Gallade - 0.45%, Pikipek - 24.99%, Trumbeak - 24.99%, Ironvaliant - 0.09%\n",
      "Time: Sun, Weather: Storm - Ralts - 44.98%, Kirlia - 4.50%, Gallade - 0.45%, Pikipek - 24.99%, Trumbeak - 24.99%, Ironvaliant - 0.09%\n",
      "Time: Night, Weather: Clear - Ralts - 44.98%, Kirlia - 4.50%, Gallade - 0.45%, Pikipek - 24.99%, Trumbeak - 24.99%, Ironvaliant - 0.09%\n",
      "Time: Night, Weather: Rain - Ralts - 44.98%, Kirlia - 4.50%, Gallade - 0.45%, Pikipek - 24.99%, Trumbeak - 24.99%, Ironvaliant - 0.09%\n",
      "Time: Night, Weather: Storm - Ralts - 44.98%, Kirlia - 4.50%, Gallade - 0.45%, Pikipek - 24.99%, Trumbeak - 24.99%, Ironvaliant - 0.09%\n",
      "\n",
      "\n",
      "Bucket: Rare\n",
      "Time: Sun, Weather: Clear - Toucannon - 100.00%\n",
      "Time: Sun, Weather: Rain - Toucannon - 100.00%\n",
      "Time: Sun, Weather: Storm - Toucannon - 100.00%\n",
      "Time: Night, Weather: Clear - Toucannon - 100.00%\n",
      "Time: Night, Weather: Rain - Toucannon - 100.00%\n",
      "Time: Night, Weather: Storm - Toucannon - 100.00%\n",
      "\n",
      "\n",
      "Bucket: Ultra-rare\n",
      "Time: Sun, Weather: Clear - Roaringmoon - 100.00%\n",
      "Time: Sun, Weather: Rain - Roaringmoon - 100.00%\n",
      "Time: Sun, Weather: Storm - Roaringmoon - 100.00%\n",
      "Time: Night, Weather: Clear - Roaringmoon - 100.00%\n",
      "Time: Night, Weather: Rain - Roaringmoon - 100.00%\n",
      "Time: Night, Weather: Storm - Roaringmoon - 100.00%\n"
     ]
    }
   ],
   "source": [
    "bucket_options = ['common', 'uncommon', 'rare', 'ultra-rare']\n",
    "\n",
    "for bucket in bucket_options:\n",
    "    bucket_rarities = calculate_rarities(bucket, filtered_basic_data)\n",
    "    print(f\"Bucket: {bucket.capitalize()}\")\n",
    "    \n",
    "    for combo, pokemons in bucket_rarities.items():\n",
    "        curr_time, curr_weather = combo\n",
    "        \n",
    "        pokemon_str = ', '.join([f'{mon.capitalize()} - {chances}' for mon, weight, chances in pokemons])\n",
    "        result = f\"Time: {curr_time.capitalize()}, Weather: {curr_weather.capitalize()} - {pokemon_str}\"\n",
    "        print(f'{result}')\n",
    "    \n",
    "    print(\"\\n\")\n",
    "\n",
    "    "
   ],
   "metadata": {
    "collapsed": false,
    "ExecuteTime": {
     "end_time": "2023-12-01T03:19:47.589973633Z",
     "start_time": "2023-12-01T03:19:47.573766401Z"
    }
   },
   "id": "e2ae3e26ea87a00e"
  },
  {
   "cell_type": "markdown",
   "source": [],
   "metadata": {
    "collapsed": false
   },
   "id": "f5a42090e9b732db"
  },
  {
   "cell_type": "code",
   "execution_count": null,
   "outputs": [],
   "source": [],
   "metadata": {
    "collapsed": false
   },
   "id": "4754656423a57fb5"
  }
 ],
 "metadata": {
  "kernelspec": {
   "display_name": "Python 3",
   "language": "python",
   "name": "python3"
  },
  "language_info": {
   "codemirror_mode": {
    "name": "ipython",
    "version": 2
   },
   "file_extension": ".py",
   "mimetype": "text/x-python",
   "name": "python",
   "nbconvert_exporter": "python",
   "pygments_lexer": "ipython2",
   "version": "2.7.6"
  }
 },
 "nbformat": 4,
 "nbformat_minor": 5
}
