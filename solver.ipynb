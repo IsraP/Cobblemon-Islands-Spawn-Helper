{
 "cells": [
  {
   "cell_type": "code",
   "execution_count": 39,
   "id": "initial_id",
   "metadata": {
    "collapsed": true,
    "ExecuteTime": {
     "end_time": "2023-12-01T03:30:43.247154576Z",
     "start_time": "2023-12-01T03:30:43.156106329Z"
    }
   },
   "outputs": [],
   "source": [
    "import numpy as np\n",
    "import pandas as pd"
   ]
  },
  {
   "cell_type": "markdown",
   "source": [
    "## Inputs"
   ],
   "metadata": {
    "collapsed": false
   },
   "id": "99f67bc4acaedfe6"
  },
  {
   "cell_type": "code",
   "execution_count": 40,
   "outputs": [],
   "source": [
    "desired_mon = \"Rookidee\"\n",
    "biome = \"forest\"\n",
    "preset = \"\"\n",
    "nearby_blocks = \"\"\n",
    "can_see_sky = \"true\""
   ],
   "metadata": {
    "collapsed": false,
    "ExecuteTime": {
     "end_time": "2023-12-01T03:30:43.308198846Z",
     "start_time": "2023-12-01T03:30:43.175248831Z"
    }
   },
   "id": "8855f2cb02edbb1e"
  },
  {
   "cell_type": "code",
   "execution_count": 41,
   "outputs": [],
   "source": [
    "file_path = 'cobb.csv'\n",
    "rawData = pd.read_csv(file_path)"
   ],
   "metadata": {
    "collapsed": false,
    "ExecuteTime": {
     "end_time": "2023-12-01T03:30:43.340527653Z",
     "start_time": "2023-12-01T03:30:43.229440620Z"
    }
   },
   "id": "de97433882384434"
  },
  {
   "cell_type": "markdown",
   "source": [
    "## Preprocessing"
   ],
   "metadata": {
    "collapsed": false
   },
   "id": "56f573e927da7002"
  },
  {
   "cell_type": "code",
   "execution_count": 42,
   "outputs": [],
   "source": [
    "rawData = rawData.dropna(how='all')\n",
    "rawData = rawData.replace(np.nan, '')\n",
    "data = rawData.applymap(lambda x: x.lower() if type(x) == str else x)"
   ],
   "metadata": {
    "collapsed": false,
    "ExecuteTime": {
     "end_time": "2023-12-01T03:30:43.343421486Z",
     "start_time": "2023-12-01T03:30:43.229684063Z"
    }
   },
   "id": "367e5c85e6615f44"
  },
  {
   "cell_type": "markdown",
   "source": [
    "## Filtering"
   ],
   "metadata": {
    "collapsed": false
   },
   "id": "36bb8f5d0659a211"
  },
  {
   "cell_type": "code",
   "execution_count": 43,
   "outputs": [],
   "source": [
    "def filter_column(row, value, column):\n",
    "    if ',' in row[column]:\n",
    "        return value in row[column]\n",
    "    else:\n",
    "        return row[column] == value"
   ],
   "metadata": {
    "collapsed": false,
    "ExecuteTime": {
     "end_time": "2023-12-01T03:30:43.343731294Z",
     "start_time": "2023-12-01T03:30:43.271006224Z"
    }
   },
   "id": "b6f18969c9069922"
  },
  {
   "cell_type": "code",
   "execution_count": 44,
   "outputs": [],
   "source": [
    "if biome != '':\n",
    "    filtered_basic_data = data[data.apply(filter_column, value=biome, column='Biome', axis=1) | (data['Biome'].str.contains('overworld'))]\n",
    "else:\n",
    "    filtered_basic_data = data[(data['Biome'].str.contains('overworld')) | data['Biome'] == '']\n",
    "    \n",
    "if preset != '':\n",
    "    filtered_basic_data = filtered_basic_data[data.apply(filter_column, value=preset, column='Preset', axis=1) | (filtered_basic_data['Preset'] == '')]\n",
    "else:\n",
    "    filtered_basic_data = filtered_basic_data[filtered_basic_data['Preset'] == '']\n",
    "\n",
    "\n",
    "if nearby_blocks != '':\n",
    "    filtered_basic_data = filtered_basic_data[(filtered_basic_data['Requirements'].str.contains(nearby_blocks)) | (filtered_basic_data['Requirements'] == '')]\n",
    "else:\n",
    "    filtered_basic_data = filtered_basic_data[filtered_basic_data['Requirements'] == '']\n",
    "\n",
    "filtered_basic_data = filtered_basic_data[filtered_basic_data['canseeSky'] == can_see_sky] # TODO AND ANY"
   ],
   "metadata": {
    "collapsed": false,
    "ExecuteTime": {
     "end_time": "2023-12-01T03:30:43.344797239Z",
     "start_time": "2023-12-01T03:30:43.271218457Z"
    }
   },
   "id": "883a8d499eda8b31"
  },
  {
   "cell_type": "code",
   "execution_count": 45,
   "outputs": [
    {
     "name": "stdout",
     "output_type": "stream",
     "text": [
      "['ariados', 'braviary', 'corviknight', 'corvisquire', 'gallade', 'heracross', 'ironvaliant', 'kirlia', 'noctowl', 'pikipek', 'ralts', 'roaringmoon', 'rookidee', 'rufflet', 'spinarak', 'sudowoodo', 'toucannon', 'trumbeak']\n"
     ]
    }
   ],
   "source": [
    "alist = filtered_basic_data['Pokemon'].tolist()\n",
    "alist.sort()\n",
    "print(alist)"
   ],
   "metadata": {
    "collapsed": false,
    "ExecuteTime": {
     "end_time": "2023-12-01T03:30:43.345026582Z",
     "start_time": "2023-12-01T03:30:43.315504427Z"
    }
   },
   "id": "be4b08d3b0d2005"
  },
  {
   "cell_type": "markdown",
   "source": [
    "## Calculating rarities"
   ],
   "metadata": {
    "collapsed": false
   },
   "id": "a720bab3baa367ef"
  },
  {
   "cell_type": "code",
   "execution_count": 46,
   "outputs": [],
   "source": [
    "def calculate_rarities(bucket, data):\n",
    "    bucket_data = data[data['Bucket'] == bucket]\n",
    "    \n",
    "    groupings = {\n",
    "        ('sun', 'clear'): [],\n",
    "        ('sun', 'rain'): [],\n",
    "        ('sun', 'storm'): [],\n",
    "        ('night', 'clear'): [],\n",
    "        ('night', 'rain'): [],\n",
    "        ('night', 'storm'): [],\n",
    "    }\n",
    "    groupings_with_any = {}\n",
    "    \n",
    "    # Add mons to their respective groups\n",
    "    for index, row in bucket_data.iterrows():\n",
    "        time = row['Time']\n",
    "        weather = row['Weather']\n",
    "        \n",
    "        new_data = (row['Pokemon'], row['Weight'])\n",
    "        \n",
    "        key = (time, weather)\n",
    "        target_dict = groupings_with_any if time == 'any' or weather == 'any' else groupings\n",
    "        \n",
    "        if key in target_dict:\n",
    "            target_dict[key].append(new_data)\n",
    "        else:\n",
    "            target_dict[key] = [new_data]\n",
    "\n",
    "    # Add combinations with 'any' to the other groupings\n",
    "    for combination, pokemon in groupings_with_any.items():\n",
    "        curr_time, curr_weather = combination\n",
    "        \n",
    "        # any and any\n",
    "        if curr_time == curr_weather:\n",
    "            for key in groupings.keys():\n",
    "                groupings[key].extend(pokemon)  \n",
    "        \n",
    "        # any and whatever\n",
    "        elif curr_time == 'any':\n",
    "            for key in groupings.keys():\n",
    "                extended_time, extended_weather = key\n",
    "                if curr_time == extended_time:\n",
    "                    groupings[key].extend(pokemon)\n",
    "                    \n",
    "        # whatever and any\n",
    "        else:\n",
    "            for key in groupings.keys():\n",
    "                extended_time, extended_weather = key\n",
    "                if curr_weather == extended_weather:\n",
    "                    groupings[key].extend(pokemon)\n",
    "            \n",
    "    \n",
    "    percentages = {}\n",
    "                \n",
    "    for combination, pokemon in groupings.items():\n",
    "        max_weight = sum(weight for mon, weight in pokemon)\n",
    "        \n",
    "        percentages[combination] = [(mon, weight, f\"{weight / max_weight * 100:.2f}%\") for mon, weight in pokemon]\n",
    "    \n",
    "    return percentages\n",
    "            "
   ],
   "metadata": {
    "collapsed": false,
    "ExecuteTime": {
     "end_time": "2023-12-01T03:30:43.358138123Z",
     "start_time": "2023-12-01T03:30:43.315765839Z"
    }
   },
   "id": "6ff2394ef5c5878d"
  },
  {
   "cell_type": "markdown",
   "source": [
    "## Results"
   ],
   "metadata": {
    "collapsed": false
   },
   "id": "2eeef374332b946"
  },
  {
   "cell_type": "code",
   "execution_count": 47,
   "outputs": [
    {
     "name": "stdout",
     "output_type": "stream",
     "text": [
      "Bucket: Common\n",
      "Time: Sun, Weather: Clear -> Rookidee - 90.00%, Corvisquire - 9.00%, Corviknight - 1.00%\n",
      "Time: Sun, Weather: Rain -> Rookidee - 90.00%, Corvisquire - 9.00%, Corviknight - 1.00%\n",
      "Time: Sun, Weather: Storm -> Rookidee - 90.00%, Corvisquire - 9.00%, Corviknight - 1.00%\n",
      "Time: Night, Weather: Clear -> Noctowl - 5.88%, Spinarak - 31.76%, Ariados - 3.53%, Rookidee - 52.94%, Corvisquire - 5.29%, Corviknight - 0.59%\n",
      "Time: Night, Weather: Rain -> Rookidee - 90.00%, Corvisquire - 9.00%, Corviknight - 1.00%\n",
      "Time: Night, Weather: Storm -> Rookidee - 90.00%, Corvisquire - 9.00%, Corviknight - 1.00%\n",
      "\n",
      "\n",
      "Bucket: Uncommon\n",
      "Time: Sun, Weather: Clear -> Ralts - 44.98%, Kirlia - 4.50%, Gallade - 0.45%, Pikipek - 24.99%, Trumbeak - 24.99%, Ironvaliant - 0.09%\n",
      "Time: Sun, Weather: Rain -> Ralts - 44.98%, Kirlia - 4.50%, Gallade - 0.45%, Pikipek - 24.99%, Trumbeak - 24.99%, Ironvaliant - 0.09%\n",
      "Time: Sun, Weather: Storm -> Ralts - 44.98%, Kirlia - 4.50%, Gallade - 0.45%, Pikipek - 24.99%, Trumbeak - 24.99%, Ironvaliant - 0.09%\n",
      "Time: Night, Weather: Clear -> Ralts - 44.98%, Kirlia - 4.50%, Gallade - 0.45%, Pikipek - 24.99%, Trumbeak - 24.99%, Ironvaliant - 0.09%\n",
      "Time: Night, Weather: Rain -> Ralts - 44.98%, Kirlia - 4.50%, Gallade - 0.45%, Pikipek - 24.99%, Trumbeak - 24.99%, Ironvaliant - 0.09%\n",
      "Time: Night, Weather: Storm -> Ralts - 44.98%, Kirlia - 4.50%, Gallade - 0.45%, Pikipek - 24.99%, Trumbeak - 24.99%, Ironvaliant - 0.09%\n",
      "\n",
      "\n",
      "Bucket: Rare\n",
      "Time: Sun, Weather: Clear -> Toucannon - 100.00%\n",
      "Time: Sun, Weather: Rain -> Toucannon - 100.00%\n",
      "Time: Sun, Weather: Storm -> Toucannon - 100.00%\n",
      "Time: Night, Weather: Clear -> Toucannon - 100.00%\n",
      "Time: Night, Weather: Rain -> Toucannon - 100.00%\n",
      "Time: Night, Weather: Storm -> Toucannon - 100.00%\n",
      "\n",
      "\n",
      "Bucket: Ultra-rare\n",
      "Time: Sun, Weather: Clear -> Roaringmoon - 100.00%\n",
      "Time: Sun, Weather: Rain -> Roaringmoon - 100.00%\n",
      "Time: Sun, Weather: Storm -> Roaringmoon - 100.00%\n",
      "Time: Night, Weather: Clear -> Roaringmoon - 100.00%\n",
      "Time: Night, Weather: Rain -> Roaringmoon - 100.00%\n",
      "Time: Night, Weather: Storm -> Roaringmoon - 100.00%\n",
      "\n"
     ]
    }
   ],
   "source": [
    "bucket_options = ['common', 'uncommon', 'rare', 'ultra-rare']\n",
    "\n",
    "for bucket in bucket_options:\n",
    "    bucket_rarities = calculate_rarities(bucket, filtered_basic_data)\n",
    "    print(f\"Bucket: {bucket.capitalize()}\")\n",
    "    \n",
    "    for combo, pokemons in bucket_rarities.items():\n",
    "        curr_time, curr_weather = combo\n",
    "        \n",
    "        pokemon_str = ', '.join([f'{mon.capitalize()} - {chances}' for mon, weight, chances in pokemons])\n",
    "        result = f\"Time: {curr_time.capitalize()}, Weather: {curr_weather.capitalize()} -> {pokemon_str}\"\n",
    "        print(f'{result}')\n",
    "    \n",
    "    print(\"\\n\")"
   ],
   "metadata": {
    "collapsed": false,
    "ExecuteTime": {
     "end_time": "2023-12-01T03:30:43.428972849Z",
     "start_time": "2023-12-01T03:30:43.315995476Z"
    }
   },
   "id": "e2ae3e26ea87a00e"
  },
  {
   "cell_type": "markdown",
   "source": [],
   "metadata": {
    "collapsed": false
   },
   "id": "f5a42090e9b732db"
  },
  {
   "cell_type": "code",
   "execution_count": null,
   "outputs": [],
   "source": [],
   "metadata": {
    "collapsed": false
   },
   "id": "4754656423a57fb5"
  }
 ],
 "metadata": {
  "kernelspec": {
   "display_name": "Python 3",
   "language": "python",
   "name": "python3"
  },
  "language_info": {
   "codemirror_mode": {
    "name": "ipython",
    "version": 2
   },
   "file_extension": ".py",
   "mimetype": "text/x-python",
   "name": "python",
   "nbconvert_exporter": "python",
   "pygments_lexer": "ipython2",
   "version": "2.7.6"
  }
 },
 "nbformat": 4,
 "nbformat_minor": 5
}
